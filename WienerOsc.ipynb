{
 "cells": [
  {
   "cell_type": "code",
   "execution_count": 1,
   "metadata": {
    "scrolled": false
   },
   "outputs": [
    {
     "name": "stdout",
     "output_type": "stream",
     "text": [
      "Populating the interactive namespace from numpy and matplotlib\n"
     ]
    }
   ],
   "source": [
    "%pylab inline\n",
    "import random"
   ]
  },
  {
   "cell_type": "code",
   "execution_count": 2,
   "metadata": {
    "scrolled": false
   },
   "outputs": [],
   "source": [
    "def myMonteCarlo(myParams,a,N):\n",
    "    \n",
    "    bolyongas = [[]for _ in range(len(myParams))] #listák listája a tárolásra\n",
    "    n0=a\n",
    "    n=a\n",
    "    for i in range(len(myParams)):\n",
    "        nu=myParams[i] #aktuális személyre szabott érték beállítása\n",
    "        j =0\n",
    "        while j<N: #j=0,1,2,...N-1\n",
    "            sorsolas=(random.randint(0,1)*2)-1 #egész szám (1 vagy -1) sorsolása\n",
    "                                                   #egyenletes eloszlás alapján\n",
    "\n",
    "            if sorsolas>0:\n",
    "                n0=n\n",
    "                n+=1\n",
    "                if 0.5*((n**2)-(n0**2))<0:\n",
    "                    bolyongas[i].append(n)\n",
    "                else:\n",
    "                    P=random.random()\n",
    "                    myExpVal=exp(-0.5*nu*((n**2)-(n0**2)))\n",
    "                    if P <myExpVal:\n",
    "                        bolyongas[i].append(n)\n",
    "                    else:\n",
    "                        bolyongas[i].append(n0)\n",
    "\n",
    "\n",
    "            else:\n",
    "                n0=n\n",
    "                n-=1\n",
    "                if 0.5*((n**2)-(n0**2))<0:\n",
    "                    bolyongas[i].append(n)\n",
    "                else:\n",
    "                    P=random.random()\n",
    "                    myExpVal=exp(-0.5*nu*((n**2)-(n0**2)))\n",
    "                    if P <myExpVal:\n",
    "                        bolyongas[i].append(n)\n",
    "\n",
    "                    else:\n",
    "                        bolyongas[i].append(n0) \n",
    "            \n",
    "            j+=1\n",
    "            \n",
    "    return bolyongas"
   ]
  },
  {
   "cell_type": "code",
   "execution_count": 3,
   "metadata": {},
   "outputs": [],
   "source": [
    "myParams = [0.07,0.16,0.64,0.90]"
   ]
  },
  {
   "cell_type": "code",
   "execution_count": 4,
   "metadata": {},
   "outputs": [],
   "source": [
    "a=500\n",
    "N = 1e05"
   ]
  },
  {
   "cell_type": "code",
   "execution_count": 5,
   "metadata": {
    "scrolled": true
   },
   "outputs": [
    {
     "data": {
      "image/png": "[encoded data removed]",
      "text/plain": [
       "<Figure size 432x288 with 1 Axes>"
      ]
     },
     "metadata": {
      "needs_background": "light"
     },
     "output_type": "display_data"
    }
   ],
   "source": [
    "mySimulation =myMonteCarlo(myParams,a,N)\n",
    "plot(mySimulation[0])\n",
    "grid()\n",
    "xlabel('eltelt idő, t', fontsize=14)\n",
    "ylabel('origótól való távolság, x', fontsize=14)\n",
    "savefig('test1.png')"
   ]
  },
  {
   "cell_type": "markdown",
   "metadata": {},
   "source": [
    "#### A $\\beta k a^{2}$ személyre szabott paraméterekhez tartozó $\\tau$ értékek megbecslése "
   ]
  },
  {
   "cell_type": "code",
   "execution_count": 6,
   "metadata": {},
   "outputs": [
    {
     "data": {
      "text/plain": [
       "[71882, 97802, 15859, 56189]"
      ]
     },
     "execution_count": 6,
     "metadata": {},
     "output_type": "execute_result"
    }
   ],
   "source": [
    "myTaus = []\n",
    "\n",
    "for i in range(4):\n",
    "    myTaus.append(argmin(array([mySimulation[i]])))\n",
    "        \n",
    "myTaus"
   ]
  },
  {
   "cell_type": "markdown",
   "metadata": {},
   "source": [
    "#### A $T$ hőmérsékleti termodinamikai átlagok $<x>$ és $<x^{2}>$ kiszámítása"
   ]
  },
  {
   "cell_type": "code",
   "execution_count": null,
   "metadata": {},
   "outputs": [],
   "source": [
    "myXs = [[]for _ in range(4)]\n",
    "myXSquares = [[]for _ in range(4)]\n",
    "\n",
    "for i in range(4):\n",
    "    for j in range(mySimulation[i][myTaus[i]],len(mySimulation[i])):\n",
    "        if j%5==0:\n",
    "            myXs[i].append(array([mySimulation[i][j]]))\n",
    "            myXSquares[i].append(array([mySimulation[i][j]**2]))"
   ]
  },
  {
   "cell_type": "code",
   "execution_count": 30,
   "metadata": {},
   "outputs": [
    {
     "ename": "KeyboardInterrupt",
     "evalue": "",
     "output_type": "error",
     "traceback": [
      "\u001b[1;31m---------------------------------------------------------------------------\u001b[0m",
      "\u001b[1;31mKeyboardInterrupt\u001b[0m                         Traceback (most recent call last)",
      "\u001b[1;32m<ipython-input-30-985bd9c9845c>\u001b[0m in \u001b[0;36m<module>\u001b[1;34m\u001b[0m\n\u001b[0;32m      3\u001b[0m \u001b[1;32mfor\u001b[0m \u001b[0mi\u001b[0m \u001b[1;32min\u001b[0m \u001b[0mrange\u001b[0m\u001b[1;33m(\u001b[0m\u001b[1;36m4\u001b[0m\u001b[1;33m)\u001b[0m\u001b[1;33m:\u001b[0m\u001b[1;33m\u001b[0m\u001b[1;33m\u001b[0m\u001b[0m\n\u001b[0;32m      4\u001b[0m     \u001b[1;32mfor\u001b[0m \u001b[0mj\u001b[0m \u001b[1;32min\u001b[0m \u001b[0mrange\u001b[0m\u001b[1;33m(\u001b[0m\u001b[0mlen\u001b[0m\u001b[1;33m(\u001b[0m\u001b[0mmyXs\u001b[0m\u001b[1;33m[\u001b[0m\u001b[0mi\u001b[0m\u001b[1;33m]\u001b[0m\u001b[1;33m)\u001b[0m\u001b[1;33m)\u001b[0m\u001b[1;33m:\u001b[0m\u001b[1;33m\u001b[0m\u001b[1;33m\u001b[0m\u001b[0m\n\u001b[1;32m----> 5\u001b[1;33m         \u001b[0mmyEXs\u001b[0m\u001b[1;33m.\u001b[0m\u001b[0mappend\u001b[0m\u001b[1;33m(\u001b[0m\u001b[0marray\u001b[0m\u001b[1;33m(\u001b[0m\u001b[1;33m[\u001b[0m\u001b[0mmyXs\u001b[0m\u001b[1;33m[\u001b[0m\u001b[0mi\u001b[0m\u001b[1;33m]\u001b[0m\u001b[1;33m]\u001b[0m\u001b[1;33m)\u001b[0m\u001b[1;33m.\u001b[0m\u001b[0mmean\u001b[0m\u001b[1;33m(\u001b[0m\u001b[1;33m)\u001b[0m\u001b[1;33m)\u001b[0m\u001b[1;33m\u001b[0m\u001b[1;33m\u001b[0m\u001b[0m\n\u001b[0m\u001b[0;32m      6\u001b[0m \u001b[1;33m\u001b[0m\u001b[0m\n\u001b[0;32m      7\u001b[0m \u001b[1;33m\u001b[0m\u001b[0m\n",
      "\u001b[1;31mKeyboardInterrupt\u001b[0m: "
     ]
    }
   ],
   "source": [
    "myEXs = []\n",
    "\n",
    "for i in range(4):\n",
    "    for j in range(len(myXs[i])):\n",
    "        myEXs.append(array([myXs[i]]).mean())\n",
    "        \n",
    "    \n",
    "myEXs"
   ]
  },
  {
   "cell_type": "code",
   "execution_count": null,
   "metadata": {},
   "outputs": [],
   "source": [
    "myEXSquares = []\n",
    "\n",
    "for i in range(4):\n",
    "    for j in range(len(myXSquares[i])):\n",
    "        myEXSquares.append(array([myXSquares[i]]).mean())\n",
    "        \n",
    "    \n",
    "myEXSquares"
   ]
  },
  {
   "cell_type": "markdown",
   "metadata": {},
   "source": [
    "#### A $<x^{2}>-<x>^{2}$ szórásnégyzet kiszámítása"
   ]
  },
  {
   "cell_type": "code",
   "execution_count": 24,
   "metadata": {},
   "outputs": [
    {
     "data": {
      "text/plain": [
       "36705.734231762355"
      ]
     },
     "execution_count": 24,
     "metadata": {},
     "output_type": "execute_result"
    }
   ],
   "source": [
    "output = []\n",
    "\n",
    "for i in range(4):\n",
    "    output.append(myEXSquares[i]-myEX[i]**2)"
   ]
  },
  {
   "cell_type": "code",
   "execution_count": null,
   "metadata": {},
   "outputs": [],
   "source": [
    "output"
   ]
  },
  {
   "cell_type": "code",
   "execution_count": 40,
   "metadata": {},
   "outputs": [
    {
     "data": {
      "text/plain": [
       "[1888840869.9720764, 3403046591.414795, 4982511639.538452, 5570760760.097412]"
      ]
     },
     "execution_count": 40,
     "metadata": {},
     "output_type": "execute_result"
    }
   ],
   "source": [
    "a = 666\n",
    "myMeansSquared= []\n",
    "myMeanSquares= []\n",
    "myVariances = []\n",
    "\n",
    "for i in range(4):\n",
    "    myMeansSquared.append((a*array([mySimulation[i]]).mean())**2)\n",
    "    myMeanSquares.append(a**2*array([[l**2 for l in mySimulation[i]]]).mean())\n",
    "    myVariances.append(myMeanSquares[i]-myMeansSquared[i])\n",
    "    \n",
    "myVariances"
   ]
  },
  {
   "cell_type": "code",
   "execution_count": 41,
   "metadata": {
    "scrolled": true
   },
   "outputs": [
    {
     "data": {
      "text/plain": [
       "Text(0, 0.5, '$\\\\sigma^{2}$')"
      ]
     },
     "execution_count": 41,
     "metadata": {},
     "output_type": "execute_result"
    },
    {
     "data": {
      "image/png": "[encoded data removed]",
      "text/plain": [
       "<Figure size 432x288 with 1 Axes>"
      ]
     },
     "metadata": {
      "needs_background": "light"
     },
     "output_type": "display_data"
    }
   ],
   "source": [
    "plot(myParams,myVariances,'.')\n",
    "grid()\n",
    "xlabel(r'$\\beta k a^{2}$', fontsize=14)\n",
    "ylabel(r'$\\sigma^{2}$', fontsize=14)"
   ]
  },
  {
   "cell_type": "code",
   "execution_count": null,
   "metadata": {},
   "outputs": [],
   "source": []
  }
 ],
 "metadata": {
  "kernelspec": {
   "display_name": "Python 3",
   "language": "python",
   "name": "python3"
  },
  "language_info": {
   "codemirror_mode": {
    "name": "ipython",
    "version": 3
   },
   "file_extension": ".py",
   "mimetype": "text/x-python",
   "name": "python",
   "nbconvert_exporter": "python",
   "pygments_lexer": "ipython3",
   "version": "3.7.4"
  }
 },
 "nbformat": 4,
 "nbformat_minor": 2
}
