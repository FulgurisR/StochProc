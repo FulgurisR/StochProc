{
 "cells": [
  {
   "cell_type": "code",
   "execution_count": 1,
   "metadata": {
    "scrolled": true
   },
   "outputs": [
    {
     "name": "stdout",
     "output_type": "stream",
     "text": [
      "Populating the interactive namespace from numpy and matplotlib\n"
     ]
    }
   ],
   "source": [
    "%pylab inline"
   ]
  },
  {
   "cell_type": "code",
   "execution_count": 17,
   "metadata": {
    "scrolled": false
   },
   "outputs": [],
   "source": [
    "def myMonteCarlo(myParams,a,N):\n",
    "    \n",
    "    bolyongas = [[]for _ in range(len(myParams))] #listák listája a tárolásra\n",
    "    n0 =a\n",
    "    n=0\n",
    "    for i in range(len(myParams)):\n",
    "        nu=myParams[i] #aktuális személyre szabott érték beállítása\n",
    "        j =0\n",
    "        while j<N: #j=0,1,2,...N-1\n",
    "            sorsolas=random.random(size=1) #valós szám sorsolása [0,1) intervallumból\n",
    "                                            #egyenletes eloszlás alapján\n",
    "\n",
    "            if sorsolas>=0.5:\n",
    "                n0=n\n",
    "                n+=1\n",
    "                if 0.5*(n**2-n0**2)<0:\n",
    "                    bolyongas[i].append(n)\n",
    "                else:\n",
    "                    P=random.random(size=1)\n",
    "                    myExpVal=exp(-0.5*nu*(n**2-n0**2))\n",
    "                    if P <myExpVal:\n",
    "                        bolyongas[i].append(n)\n",
    "                    else:\n",
    "                        bolyongas[i].append(n0)\n",
    "\n",
    "\n",
    "            else:\n",
    "                n0=n\n",
    "                n-=1\n",
    "                if 0.5*(n**2-n0**2)<0:\n",
    "                    bolyongas[i].append(n)\n",
    "                else:\n",
    "                    P=random.random(size=1)\n",
    "                    myExpVal=exp(-0.5*nu*(n**2-n0**2))\n",
    "                    if P <myExpVal:\n",
    "                        bolyongas[i].append(n)\n",
    "\n",
    "                    else:\n",
    "                        bolyongas[i].append(n0) \n",
    "            \n",
    "            j+=1\n",
    "            \n",
    "    return bolyongas"
   ]
  },
  {
   "cell_type": "code",
   "execution_count": 18,
   "metadata": {},
   "outputs": [],
   "source": [
    "myParams = [0.07,0.16,0.64,0.90]"
   ]
  },
  {
   "cell_type": "code",
   "execution_count": 22,
   "metadata": {
    "scrolled": false
   },
   "outputs": [
    {
     "data": {
      "image/png": "[encoded data removed]",
      "text/plain": [
       "<Figure size 432x288 with 1 Axes>"
      ]
     },
     "metadata": {
      "needs_background": "light"
     },
     "output_type": "display_data"
    }
   ],
   "source": [
    "mySimulation =myMonteCarlo(myParams,666,125000)\n",
    "plot(mySimulation[0])\n",
    "grid()\n",
    "savefig('test1.png')"
   ]
  },
  {
   "cell_type": "code",
   "execution_count": 23,
   "metadata": {},
   "outputs": [
    {
     "data": {
      "text/plain": [
       "[22076645473.661053, 4412311281.450821, 13161809278.220947, 3582449129.0665283]"
      ]
     },
     "execution_count": 23,
     "metadata": {},
     "output_type": "execute_result"
    }
   ],
   "source": [
    "a = 666\n",
    "myMeansSquared= []\n",
    "myMeanSquares= []\n",
    "myVariances = []\n",
    "\n",
    "for i in range(4):\n",
    "    myMeansSquared.append((a*array([mySimulation[i]]).mean())**2)\n",
    "    myMeanSquares.append(a**2*array([[l**2 for l in mySimulation[i]]]).mean())\n",
    "    myVariances.append(myMeanSquares[i]-myMeansSquared[i])\n",
    "    \n",
    "myVariances"
   ]
  },
  {
   "cell_type": "code",
   "execution_count": 24,
   "metadata": {
    "scrolled": true
   },
   "outputs": [
    {
     "data": {
      "text/plain": [
       "Text(0, 0.5, '$\\\\sigma^{2}$')"
      ]
     },
     "execution_count": 24,
     "metadata": {},
     "output_type": "execute_result"
    },
    {
     "data": {
      "image/png": "[encoded data removed]",
      "text/plain": [
       "<Figure size 432x288 with 1 Axes>"
      ]
     },
     "metadata": {
      "needs_background": "light"
     },
     "output_type": "display_data"
    }
   ],
   "source": [
    "plot(myParams,myVariances,'.')\n",
    "grid()\n",
    "xlabel(r'$\\beta k a^{2}$', fontsize=14)\n",
    "ylabel(r'$\\sigma^{2}$', fontsize=14)"
   ]
  },
  {
   "cell_type": "code",
   "execution_count": null,
   "metadata": {},
   "outputs": [],
   "source": []
  }
 ],
 "metadata": {
  "kernelspec": {
   "display_name": "Python 3",
   "language": "python",
   "name": "python3"
  },
  "language_info": {
   "codemirror_mode": {
    "name": "ipython",
    "version": 3
   },
   "file_extension": ".py",
   "mimetype": "text/x-python",
   "name": "python",
   "nbconvert_exporter": "python",
   "pygments_lexer": "ipython3",
   "version": "3.7.4"
  }
 },
 "nbformat": 4,
 "nbformat_minor": 2
}
